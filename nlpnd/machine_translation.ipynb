{
 "cells": [
  {
   "cell_type": "markdown",
   "metadata": {
    "collapsed": true
   },
   "source": [
    "# Artificial Intelligence Nanodegree\n",
    "## Machine Translation Project\n",
    "In this notebook, sections that end with **'(IMPLEMENTATION)'** in the header indicate that the following blocks of code will require additional functionality which you must provide. Please be sure to read the instructions carefully!\n",
    "\n",
    "## Introduction\n",
    "In this notebook, you will build a deep neural network that functions as part of an end-to-end machine translation pipeline. Your completed pipeline will accept English text as input and return the French translation.\n",
    "\n",
    "- **Preprocess** - You'll convert text to sequence of integers.\n",
    "- **Models** Create models which accepts a sequence of integers as input and returns a probability distribution over possible translations. After learning about the basic types of neural networks that are often used for machine translation, you will engage in your own investigations, to design your own model!\n",
    "- **Prediction** Run the model on English text."
   ]
  },
  {
   "cell_type": "code",
   "execution_count": 3,
   "metadata": {},
   "outputs": [],
   "source": [
    "%load_ext autoreload\n",
    "%aimport helper, tests\n",
    "%autoreload 1"
   ]
  },
  {
   "cell_type": "code",
   "execution_count": 4,
   "metadata": {},
   "outputs": [],
   "source": [
    "import collections\n",
    "\n",
    "import helper\n",
    "import numpy as np\n",
    "import project_tests as tests\n",
    "\n",
    "from keras.preprocessing.text import Tokenizer\n",
    "from keras.preprocessing.sequence import pad_sequences\n",
    "from keras.models import Model, Sequential\n",
    "from keras.layers import GRU, LSTM, Input, Dense, TimeDistributed, Activation, RepeatVector, Bidirectional\n",
    "from keras.layers.embeddings import Embedding\n",
    "from keras.optimizers import Adam\n",
    "from keras.losses import sparse_categorical_crossentropy"
   ]
  },
  {
   "cell_type": "markdown",
   "metadata": {},
   "source": [
    "### Verify access to the GPU\n",
    "The following test applies only if you expect to be using a GPU, e.g., while running in a Udacity Workspace or using an AWS instance with GPU support. Run the next cell, and verify that the device_type is \"GPU\".\n",
    "- If the device is not GPU & you are running from a Udacity Workspace, then save your workspace with the icon at the top, then click \"enable\" at the bottom of the workspace.\n",
    "- If the device is not GPU & you are running from an AWS instance, then refer to the cloud computing instructions in the classroom to verify your setup steps."
   ]
  },
  {
   "cell_type": "code",
   "execution_count": 5,
   "metadata": {},
   "outputs": [
    {
     "name": "stdout",
     "output_type": "stream",
     "text": [
      "[name: \"/cpu:0\"\n",
      "device_type: \"CPU\"\n",
      "memory_limit: 268435456\n",
      "locality {\n",
      "}\n",
      "incarnation: 2129606056101414479\n",
      ", name: \"/gpu:0\"\n",
      "device_type: \"GPU\"\n",
      "memory_limit: 357302272\n",
      "locality {\n",
      "  bus_id: 1\n",
      "}\n",
      "incarnation: 7660934698973184621\n",
      "physical_device_desc: \"device: 0, name: Tesla K80, pci bus id: 0000:00:04.0\"\n",
      "]\n"
     ]
    }
   ],
   "source": [
    "from tensorflow.python.client import device_lib\n",
    "print(device_lib.list_local_devices())"
   ]
  },
  {
   "cell_type": "markdown",
   "metadata": {},
   "source": [
    "## Dataset\n",
    "We begin by investigating the dataset that will be used to train and evaluate your pipeline.  The most common datasets used for machine translation are from [WMT](http://www.statmt.org/).  However, that will take a long time to train a neural network on.  We'll be using a dataset we created for this project that contains a small vocabulary.  You'll be able to train your model in a reasonable time with this dataset.\n",
    "### Load Data\n",
    "The data is located in `data/small_vocab_en` and `data/small_vocab_fr`. The `small_vocab_en` file contains English sentences with their French translations in the `small_vocab_fr` file. Load the English and French data from these files from running the cell below."
   ]
  },
  {
   "cell_type": "code",
   "execution_count": 6,
   "metadata": {},
   "outputs": [
    {
     "name": "stdout",
     "output_type": "stream",
     "text": [
      "Dataset Loaded\n"
     ]
    }
   ],
   "source": [
    "# Load English data\n",
    "english_sentences = helper.load_data('data/small_vocab_en')\n",
    "# Load French data\n",
    "french_sentences = helper.load_data('data/small_vocab_fr')\n",
    "\n",
    "print('Dataset Loaded')"
   ]
  },
  {
   "cell_type": "markdown",
   "metadata": {},
   "source": [
    "### Files\n",
    "Each line in `small_vocab_en` contains an English sentence with the respective translation in each line of `small_vocab_fr`.  View the first two lines from each file."
   ]
  },
  {
   "cell_type": "code",
   "execution_count": 7,
   "metadata": {},
   "outputs": [
    {
     "name": "stdout",
     "output_type": "stream",
     "text": [
      "small_vocab_en Line 1:  new jersey is sometimes quiet during autumn , and it is snowy in april .\n",
      "small_vocab_fr Line 1:  new jersey est parfois calme pendant l' automne , et il est neigeux en avril .\n",
      "small_vocab_en Line 2:  the united states is usually chilly during july , and it is usually freezing in november .\n",
      "small_vocab_fr Line 2:  les états-unis est généralement froid en juillet , et il gèle habituellement en novembre .\n"
     ]
    }
   ],
   "source": [
    "for sample_i in range(2):\n",
    "    print('small_vocab_en Line {}:  {}'.format(sample_i + 1, english_sentences[sample_i]))\n",
    "    print('small_vocab_fr Line {}:  {}'.format(sample_i + 1, french_sentences[sample_i]))"
   ]
  },
  {
   "cell_type": "markdown",
   "metadata": {},
   "source": [
    "From looking at the sentences, you can see they have been preprocessed already.  The puncuations have been delimited using spaces. All the text have been converted to lowercase.  This should save you some time, but the text requires more preprocessing.\n",
    "### Vocabulary\n",
    "The complexity of the problem is determined by the complexity of the vocabulary.  A more complex vocabulary is a more complex problem.  Let's look at the complexity of the dataset we'll be working with."
   ]
  },
  {
   "cell_type": "code",
   "execution_count": 8,
   "metadata": {},
   "outputs": [
    {
     "name": "stdout",
     "output_type": "stream",
     "text": [
      "1823250 English words.\n",
      "227 unique English words.\n",
      "10 Most common words in the English dataset:\n",
      "\"is\" \",\" \".\" \"in\" \"it\" \"during\" \"the\" \"but\" \"and\" \"sometimes\"\n",
      "\n",
      "1961295 French words.\n",
      "355 unique French words.\n",
      "10 Most common words in the French dataset:\n",
      "\"est\" \".\" \",\" \"en\" \"il\" \"les\" \"mais\" \"et\" \"la\" \"parfois\"\n"
     ]
    }
   ],
   "source": [
    "english_words_counter = collections.Counter([word for sentence in english_sentences for word in sentence.split()])\n",
    "french_words_counter = collections.Counter([word for sentence in french_sentences for word in sentence.split()])\n",
    "\n",
    "print('{} English words.'.format(len([word for sentence in english_sentences for word in sentence.split()])))\n",
    "print('{} unique English words.'.format(len(english_words_counter)))\n",
    "print('10 Most common words in the English dataset:')\n",
    "print('\"' + '\" \"'.join(list(zip(*english_words_counter.most_common(10)))[0]) + '\"')\n",
    "print()\n",
    "print('{} French words.'.format(len([word for sentence in french_sentences for word in sentence.split()])))\n",
    "print('{} unique French words.'.format(len(french_words_counter)))\n",
    "print('10 Most common words in the French dataset:')\n",
    "print('\"' + '\" \"'.join(list(zip(*french_words_counter.most_common(10)))[0]) + '\"')"
   ]
  },
  {
   "cell_type": "markdown",
   "metadata": {},
   "source": [
    "For comparison, _Alice's Adventures in Wonderland_ contains 2,766 unique words of a total of 15,500 words.\n",
    "## Preprocess\n",
    "For this project, you won't use text data as input to your model. Instead, you'll convert the text into sequences of integers using the following preprocess methods:\n",
    "1. Tokenize the words into ids\n",
    "2. Add padding to make all the sequences the same length.\n",
    "\n",
    "Time to start preprocessing the data...\n",
    "### Tokenize (IMPLEMENTATION)\n",
    "For a neural network to predict on text data, it first has to be turned into data it can understand. Text data like \"dog\" is a sequence of ASCII character encodings.  Since a neural network is a series of multiplication and addition operations, the input data needs to be number(s).\n",
    "\n",
    "We can turn each character into a number or each word into a number.  These are called character and word ids, respectively.  Character ids are used for character level models that generate text predictions for each character.  A word level model uses word ids that generate text predictions for each word.  Word level models tend to learn better, since they are lower in complexity, so we'll use those.\n",
    "\n",
    "Turn each sentence into a sequence of words ids using Keras's [`Tokenizer`](https://keras.io/preprocessing/text/#tokenizer) function. Use this function to tokenize `english_sentences` and `french_sentences` in the cell below.\n",
    "\n",
    "Running the cell will run `tokenize` on sample data and show output for debugging."
   ]
  },
  {
   "cell_type": "code",
   "execution_count": 9,
   "metadata": {},
   "outputs": [
    {
     "name": "stdout",
     "output_type": "stream",
     "text": [
      "{'the': 1, 'quick': 2, 'a': 3, 'brown': 4, 'fox': 5, 'jumps': 6, 'over': 7, 'lazy': 8, 'dog': 9, 'by': 10, 'jove': 11, 'my': 12, 'study': 13, 'of': 14, 'lexicography': 15, 'won': 16, 'prize': 17, 'this': 18, 'is': 19, 'short': 20, 'sentence': 21}\n",
      "\n",
      "Sequence 1 in x\n",
      "  Input:  The quick brown fox jumps over the lazy dog .\n",
      "  Output: [1, 2, 4, 5, 6, 7, 1, 8, 9]\n",
      "Sequence 2 in x\n",
      "  Input:  By Jove , my quick study of lexicography won a prize .\n",
      "  Output: [10, 11, 12, 2, 13, 14, 15, 16, 3, 17]\n",
      "Sequence 3 in x\n",
      "  Input:  This is a short sentence .\n",
      "  Output: [18, 19, 3, 20, 21]\n"
     ]
    }
   ],
   "source": [
    "def tokenize(x):\n",
    "    \"\"\"\n",
    "    Tokenize x\n",
    "    :param x: List of sentences/strings to be tokenized\n",
    "    :return: Tuple of (tokenized x data, tokenizer used to tokenize x)\n",
    "    \"\"\"\n",
    "    # TODO: Implement\n",
    "    x_tk = Tokenizer()\n",
    "    x_tk.fit_on_texts(x)\n",
    "    return x_tk.texts_to_sequences(x), x_tk\n",
    "tests.test_tokenize(tokenize)\n",
    "\n",
    "# Tokenize Example output\n",
    "text_sentences = [\n",
    "    'The quick brown fox jumps over the lazy dog .',\n",
    "    'By Jove , my quick study of lexicography won a prize .',\n",
    "    'This is a short sentence .']\n",
    "text_tokenized, text_tokenizer = tokenize(text_sentences)\n",
    "print(text_tokenizer.word_index)\n",
    "print()\n",
    "for sample_i, (sent, token_sent) in enumerate(zip(text_sentences, text_tokenized)):\n",
    "    print('Sequence {} in x'.format(sample_i + 1))\n",
    "    print('  Input:  {}'.format(sent))\n",
    "    print('  Output: {}'.format(token_sent))"
   ]
  },
  {
   "cell_type": "markdown",
   "metadata": {},
   "source": [
    "### Padding (IMPLEMENTATION)\n",
    "When batching the sequence of word ids together, each sequence needs to be the same length.  Since sentences are dynamic in length, we can add padding to the end of the sequences to make them the same length.\n",
    "\n",
    "Make sure all the English sequences have the same length and all the French sequences have the same length by adding padding to the **end** of each sequence using Keras's [`pad_sequences`](https://keras.io/preprocessing/sequence/#pad_sequences) function."
   ]
  },
  {
   "cell_type": "code",
   "execution_count": 10,
   "metadata": {},
   "outputs": [
    {
     "name": "stdout",
     "output_type": "stream",
     "text": [
      "Sequence 1 in x\n",
      "  Input:  [1 2 4 5 6 7 1 8 9]\n",
      "  Output: [1 2 4 5 6 7 1 8 9 0]\n",
      "Sequence 2 in x\n",
      "  Input:  [10 11 12  2 13 14 15 16  3 17]\n",
      "  Output: [10 11 12  2 13 14 15 16  3 17]\n",
      "Sequence 3 in x\n",
      "  Input:  [18 19  3 20 21]\n",
      "  Output: [18 19  3 20 21  0  0  0  0  0]\n"
     ]
    }
   ],
   "source": [
    "def pad(x, length=None):\n",
    "    \"\"\"\n",
    "    Pad x\n",
    "    :param x: List of sequences.\n",
    "    :param length: Length to pad the sequence to.  If None, use length of longest sequence in x.\n",
    "    :return: Padded numpy array of sequences\n",
    "    \"\"\"\n",
    "    # TODO: Implement\n",
    "    if length is None:\n",
    "        length = max([len(sentence) for sentence in x])\n",
    "    return pad_sequences(x, maxlen=length, padding='post')\n",
    "tests.test_pad(pad)\n",
    "\n",
    "# Pad Tokenized output\n",
    "test_pad = pad(text_tokenized)\n",
    "for sample_i, (token_sent, pad_sent) in enumerate(zip(text_tokenized, test_pad)):\n",
    "    print('Sequence {} in x'.format(sample_i + 1))\n",
    "    print('  Input:  {}'.format(np.array(token_sent)))\n",
    "    print('  Output: {}'.format(pad_sent))"
   ]
  },
  {
   "cell_type": "markdown",
   "metadata": {},
   "source": [
    "### Preprocess Pipeline\n",
    "Your focus for this project is to build neural network architecture, so we won't ask you to create a preprocess pipeline.  Instead, we've provided you with the implementation of the `preprocess` function."
   ]
  },
  {
   "cell_type": "code",
   "execution_count": 11,
   "metadata": {},
   "outputs": [
    {
     "name": "stdout",
     "output_type": "stream",
     "text": [
      "Data Preprocessed\n",
      "Max English sentence length: 15\n",
      "Max French sentence length: 21\n",
      "English vocabulary size: 199\n",
      "French vocabulary size: 344\n"
     ]
    }
   ],
   "source": [
    "def preprocess(x, y):\n",
    "    \"\"\"\n",
    "    Preprocess x and y\n",
    "    :param x: Feature List of sentences\n",
    "    :param y: Label List of sentences\n",
    "    :return: Tuple of (Preprocessed x, Preprocessed y, x tokenizer, y tokenizer)\n",
    "    \"\"\"\n",
    "    preprocess_x, x_tk = tokenize(x)\n",
    "    preprocess_y, y_tk = tokenize(y)\n",
    "\n",
    "    preprocess_x = pad(preprocess_x)\n",
    "    preprocess_y = pad(preprocess_y)\n",
    "\n",
    "    # Keras's sparse_categorical_crossentropy function requires the labels to be in 3 dimensions\n",
    "    preprocess_y = preprocess_y.reshape(*preprocess_y.shape, 1)\n",
    "\n",
    "    return preprocess_x, preprocess_y, x_tk, y_tk\n",
    "\n",
    "preproc_english_sentences, preproc_french_sentences, english_tokenizer, french_tokenizer =\\\n",
    "    preprocess(english_sentences, french_sentences)\n",
    "    \n",
    "max_english_sequence_length = preproc_english_sentences.shape[1]\n",
    "max_french_sequence_length = preproc_french_sentences.shape[1]\n",
    "english_vocab_size = len(english_tokenizer.word_index)\n",
    "french_vocab_size = len(french_tokenizer.word_index)\n",
    "\n",
    "print('Data Preprocessed')\n",
    "print(\"Max English sentence length:\", max_english_sequence_length)\n",
    "print(\"Max French sentence length:\", max_french_sequence_length)\n",
    "print(\"English vocabulary size:\", english_vocab_size)\n",
    "print(\"French vocabulary size:\", french_vocab_size)"
   ]
  },
  {
   "cell_type": "markdown",
   "metadata": {},
   "source": [
    "## Models\n",
    "In this section, you will experiment with various neural network architectures.\n",
    "You will begin by training four relatively simple architectures.\n",
    "- Model 1 is a simple RNN\n",
    "- Model 2 is a RNN with Embedding\n",
    "- Model 3 is a Bidirectional RNN\n",
    "- Model 4 is an optional Encoder-Decoder RNN\n",
    "\n",
    "After experimenting with the four simple architectures, you will construct a deeper architecture that is designed to outperform all four models.\n",
    "### Ids Back to Text\n",
    "The neural network will be translating the input to words ids, which isn't the final form we want.  We want the French translation.  The function `logits_to_text` will bridge the gab between the logits from the neural network to the French translation.  You'll be using this function to better understand the output of the neural network."
   ]
  },
  {
   "cell_type": "code",
   "execution_count": 12,
   "metadata": {},
   "outputs": [
    {
     "name": "stdout",
     "output_type": "stream",
     "text": [
      "`logits_to_text` function loaded.\n"
     ]
    }
   ],
   "source": [
    "def logits_to_text(logits, tokenizer):\n",
    "    \"\"\"\n",
    "    Turn logits from a neural network into text using the tokenizer\n",
    "    :param logits: Logits from a neural network\n",
    "    :param tokenizer: Keras Tokenizer fit on the labels\n",
    "    :return: String that represents the text of the logits\n",
    "    \"\"\"\n",
    "    index_to_words = {id: word for word, id in tokenizer.word_index.items()}\n",
    "    index_to_words[0] = '<PAD>'\n",
    "\n",
    "    return ' '.join([index_to_words[prediction] for prediction in np.argmax(logits, 1)])\n",
    "\n",
    "print('`logits_to_text` function loaded.')"
   ]
  },
  {
   "cell_type": "markdown",
   "metadata": {},
   "source": [
    "### Model 1: RNN (IMPLEMENTATION)\n",
    "![RNN](images/rnn.png)\n",
    "A basic RNN model is a good baseline for sequence data.  In this model, you'll build a RNN that translates English to French."
   ]
  },
  {
   "cell_type": "code",
   "execution_count": 13,
   "metadata": {},
   "outputs": [
    {
     "name": "stdout",
     "output_type": "stream",
     "text": [
      "*** Summary ***\n",
      "_________________________________________________________________\n",
      "Layer (type)                 Output Shape              Param #   \n",
      "=================================================================\n",
      "input_2 (InputLayer)         (None, 21, 1)             0         \n",
      "_________________________________________________________________\n",
      "lstm_2 (LSTM)                (None, 21, 100)           40800     \n",
      "_________________________________________________________________\n",
      "time_distributed_2 (TimeDist (None, 21, 344)           34744     \n",
      "_________________________________________________________________\n",
      "activation_2 (Activation)    (None, 21, 344)           0         \n",
      "=================================================================\n",
      "Total params: 75,544\n",
      "Trainable params: 75,544\n",
      "Non-trainable params: 0\n",
      "_________________________________________________________________\n",
      "None\n",
      "Train on 110288 samples, validate on 27573 samples\n",
      "Epoch 1/10\n",
      "110288/110288 [==============================] - 11s 98us/step - loss: 3.2569 - acc: 0.4241 - val_loss: nan - val_acc: 0.4659\n",
      "Epoch 2/10\n",
      "110288/110288 [==============================] - 9s 79us/step - loss: 2.4138 - acc: 0.4833 - val_loss: nan - val_acc: 0.5229\n",
      "Epoch 3/10\n",
      "110288/110288 [==============================] - 9s 78us/step - loss: 2.1082 - acc: 0.5327 - val_loss: nan - val_acc: 0.5560\n",
      "Epoch 4/10\n",
      "110288/110288 [==============================] - 9s 78us/step - loss: 1.9014 - acc: 0.5573 - val_loss: nan - val_acc: 0.5740\n",
      "Epoch 5/10\n",
      "110288/110288 [==============================] - 9s 78us/step - loss: 1.7690 - acc: 0.5714 - val_loss: nan - val_acc: 0.5804\n",
      "Epoch 6/10\n",
      "110288/110288 [==============================] - 9s 78us/step - loss: 1.6801 - acc: 0.5830 - val_loss: nan - val_acc: 0.5838\n",
      "Epoch 7/10\n",
      "110288/110288 [==============================] - 9s 78us/step - loss: 1.6170 - acc: 0.5905 - val_loss: nan - val_acc: 0.5921\n",
      "Epoch 8/10\n",
      "110288/110288 [==============================] - 9s 78us/step - loss: 1.5657 - acc: 0.5976 - val_loss: nan - val_acc: 0.5895\n",
      "Epoch 9/10\n",
      "110288/110288 [==============================] - 9s 78us/step - loss: 1.5234 - acc: 0.6026 - val_loss: nan - val_acc: 0.5899\n",
      "Epoch 10/10\n",
      "110288/110288 [==============================] - 9s 79us/step - loss: 1.4873 - acc: 0.6072 - val_loss: nan - val_acc: 0.5896\n",
      "new jersey est parfois agréable en l' mais il est agréable en en <PAD> <PAD> <PAD> <PAD> <PAD> <PAD> <PAD> <PAD>\n"
     ]
    }
   ],
   "source": [
    "def simple_model(input_shape, output_sequence_length, english_vocab_size, french_vocab_size):\n",
    "    \"\"\"\n",
    "    Build and train a basic RNN on x and y\n",
    "    :param input_shape: Tuple of input shape\n",
    "    :param output_sequence_length: Length of output sequence\n",
    "    :param english_vocab_size: Number of unique English words in the dataset\n",
    "    :param french_vocab_size: Number of unique French words in the dataset\n",
    "    :return: Keras model built, but not trained\n",
    "    \"\"\"\n",
    "    # TODO: Build the layers\n",
    "    learning_rate = 1e-3\n",
    "    input_seq = Input(input_shape[1:])\n",
    "    #rnn = GRU(128, return_sequences=True)(input_seq)\n",
    "    rnn = LSTM(100, return_sequences=True, dropout=0.2)(input_seq)\n",
    "    logits = TimeDistributed(Dense(french_vocab_size))(rnn)\n",
    "    \n",
    "    model = Model(input_seq, Activation('softmax')(logits))\n",
    "    model.compile(loss=sparse_categorical_crossentropy,\n",
    "                  optimizer=Adam(learning_rate),\n",
    "                  metrics=['accuracy'])\n",
    "    \n",
    "    return model\n",
    "tests.test_simple_model(simple_model)\n",
    "\n",
    "# Reshaping the input to work with a basic RNN\n",
    "tmp_x = pad(preproc_english_sentences, max_french_sequence_length)\n",
    "tmp_x = tmp_x.reshape((-1, preproc_french_sentences.shape[-2], 1))\n",
    "\n",
    "# Train the neural network\n",
    "simple_rnn_model = simple_model(\n",
    "    tmp_x.shape,\n",
    "    max_french_sequence_length,\n",
    "    english_vocab_size,\n",
    "    french_vocab_size)\n",
    "print('*** Summary ***')\n",
    "print(simple_rnn_model.summary())\n",
    "simple_rnn_model.fit(tmp_x, preproc_french_sentences, batch_size=1024, epochs=10, validation_split=0.2)\n",
    "\n",
    "# Print prediction(s)\n",
    "print(logits_to_text(simple_rnn_model.predict(tmp_x[:1])[0], french_tokenizer))"
   ]
  },
  {
   "cell_type": "markdown",
   "metadata": {},
   "source": [
    "### Model 2: Embedding (IMPLEMENTATION)\n",
    "![RNN](images/embedding.png)\n",
    "You've turned the words into ids, but there's a better representation of a word.  This is called word embeddings.  An embedding is a vector representation of the word that is close to similar words in n-dimensional space, where the n represents the size of the embedding vectors.\n",
    "\n",
    "In this model, you'll create a RNN model using embedding."
   ]
  },
  {
   "cell_type": "code",
   "execution_count": 14,
   "metadata": {},
   "outputs": [
    {
     "name": "stdout",
     "output_type": "stream",
     "text": [
      "*** Summary ***\n",
      "_________________________________________________________________\n",
      "Layer (type)                 Output Shape              Param #   \n",
      "=================================================================\n",
      "input_4 (InputLayer)         (None, 21)                0         \n",
      "_________________________________________________________________\n",
      "embedding_2 (Embedding)      (None, 21, 200)           39800     \n",
      "_________________________________________________________________\n",
      "lstm_4 (LSTM)                (None, 21, 100)           120400    \n",
      "_________________________________________________________________\n",
      "time_distributed_4 (TimeDist (None, 21, 344)           34744     \n",
      "_________________________________________________________________\n",
      "activation_4 (Activation)    (None, 21, 344)           0         \n",
      "=================================================================\n",
      "Total params: 194,944\n",
      "Trainable params: 194,944\n",
      "Non-trainable params: 0\n",
      "_________________________________________________________________\n",
      "None\n",
      "Train on 110288 samples, validate on 27573 samples\n",
      "Epoch 1/10\n",
      "110288/110288 [==============================] - 12s 108us/step - loss: 3.4120 - acc: 0.4108 - val_loss: nan - val_acc: 0.4699\n",
      "Epoch 2/10\n",
      "110288/110288 [==============================] - 11s 103us/step - loss: 2.2801 - acc: 0.5056 - val_loss: nan - val_acc: 0.5415\n",
      "Epoch 3/10\n",
      "110288/110288 [==============================] - 11s 103us/step - loss: 1.6874 - acc: 0.5947 - val_loss: nan - val_acc: 0.6438\n",
      "Epoch 4/10\n",
      "110288/110288 [==============================] - 11s 103us/step - loss: 1.2913 - acc: 0.6824 - val_loss: nan - val_acc: 0.7289\n",
      "Epoch 5/10\n",
      "110288/110288 [==============================] - 11s 103us/step - loss: 0.9854 - acc: 0.7507 - val_loss: nan - val_acc: 0.7765\n",
      "Epoch 6/10\n",
      "110288/110288 [==============================] - 11s 103us/step - loss: 0.7884 - acc: 0.7867 - val_loss: nan - val_acc: 0.8058\n",
      "Epoch 7/10\n",
      "110288/110288 [==============================] - 11s 103us/step - loss: 0.6758 - acc: 0.8078 - val_loss: nan - val_acc: 0.8250\n",
      "Epoch 8/10\n",
      "110288/110288 [==============================] - 11s 103us/step - loss: 0.6001 - acc: 0.8243 - val_loss: nan - val_acc: 0.8389\n",
      "Epoch 9/10\n",
      "110288/110288 [==============================] - 11s 103us/step - loss: 0.5438 - acc: 0.8382 - val_loss: nan - val_acc: 0.8524\n",
      "Epoch 10/10\n",
      "110288/110288 [==============================] - 11s 103us/step - loss: 0.5002 - acc: 0.8499 - val_loss: nan - val_acc: 0.8637\n",
      "new jersey est parfois calme en l' et il est est est en avril <PAD> <PAD> <PAD> <PAD> <PAD> <PAD> <PAD>\n"
     ]
    }
   ],
   "source": [
    "def embed_model(input_shape, output_sequence_length, english_vocab_size, french_vocab_size):\n",
    "    \"\"\"\n",
    "    Build and train a RNN model using word embedding on x and y\n",
    "    :param input_shape: Tuple of input shape\n",
    "    :param output_sequence_length: Length of output sequence\n",
    "    :param english_vocab_size: Number of unique English words in the dataset\n",
    "    :param french_vocab_size: Number of unique French words in the dataset\n",
    "    :return: Keras model built, but not trained\n",
    "    \"\"\"\n",
    "    # TODO: Implement\n",
    "    learning_rate = 1e-3\n",
    "    \n",
    "    '''\n",
    "    model = Sequential()\n",
    "    model.add(Embedding(english_vocab_size, 128, input_length=max_french_sequence_length))\n",
    "    model.add(GRU(64, return_sequences=True))\n",
    "    model.add(TimeDistributed(Dense(french_vocab_size, activation='sigmoid')))\n",
    "    '''\n",
    "    \n",
    "    \n",
    "    input_seq = Input(input_shape[1:])\n",
    "    embed = Embedding(english_vocab_size, 200, input_length=max_french_sequence_length)(input_seq)\n",
    "    #rnn = GRU(128, return_sequences=True)(embed)\n",
    "    rnn = LSTM(100, return_sequences=True, dropout=0.2)(embed)\n",
    "    logits = TimeDistributed(Dense(french_vocab_size))(rnn)\n",
    "    \n",
    "    \n",
    "    model = Model(input_seq, Activation('softmax')(logits))\n",
    "    model.compile(loss=sparse_categorical_crossentropy,\n",
    "                  optimizer=Adam(learning_rate),\n",
    "                  metrics=['accuracy'])\n",
    "    \n",
    "    return model\n",
    "tests.test_embed_model(embed_model)\n",
    "\n",
    "# TODO: Reshape the input\n",
    "# Reshaping the input to work with a basic RNN\n",
    "tmp_x = pad(preproc_english_sentences, max_french_sequence_length)\n",
    "#print(tmp_x.shape)\n",
    "#tmp_x = tmp_x.reshape((-1, preproc_french_sentences.shape[-2], 1))\n",
    "#print(tmp_x.shape)\n",
    "\n",
    "# TODO: Train the neural network\n",
    "# Train the neural network\n",
    "embed_rnn_model = embed_model(\n",
    "    tmp_x.shape,\n",
    "    max_french_sequence_length,\n",
    "    english_vocab_size,\n",
    "    french_vocab_size)\n",
    "print('*** Summary ***')\n",
    "print(embed_rnn_model.summary())\n",
    "embed_rnn_model.fit(tmp_x, preproc_french_sentences, batch_size=1024, epochs=10, validation_split=0.2)\n",
    "\n",
    "# TODO: Print prediction(s)\n",
    "# Print prediction(s)\n",
    "print(logits_to_text(embed_rnn_model.predict(tmp_x[:1])[0], french_tokenizer))\n"
   ]
  },
  {
   "cell_type": "markdown",
   "metadata": {},
   "source": [
    "### Model 3: Bidirectional RNNs (IMPLEMENTATION)\n",
    "![RNN](images/bidirectional.png)\n",
    "One restriction of a RNN is that it can't see the future input, only the past.  This is where bidirectional recurrent neural networks come in.  They are able to see the future data."
   ]
  },
  {
   "cell_type": "code",
   "execution_count": 15,
   "metadata": {},
   "outputs": [
    {
     "name": "stdout",
     "output_type": "stream",
     "text": [
      "*** Summary ***\n",
      "_________________________________________________________________\n",
      "Layer (type)                 Output Shape              Param #   \n",
      "=================================================================\n",
      "input_6 (InputLayer)         (None, 21, 1)             0         \n",
      "_________________________________________________________________\n",
      "bidirectional_1 (Bidirection (None, 21, 256)           99840     \n",
      "_________________________________________________________________\n",
      "time_distributed_6 (TimeDist (None, 21, 344)           88408     \n",
      "_________________________________________________________________\n",
      "activation_6 (Activation)    (None, 21, 344)           0         \n",
      "=================================================================\n",
      "Total params: 188,248\n",
      "Trainable params: 188,248\n",
      "Non-trainable params: 0\n",
      "_________________________________________________________________\n",
      "None\n",
      "Train on 110288 samples, validate on 27573 samples\n",
      "Epoch 1/10\n",
      "110288/110288 [==============================] - 13s 114us/step - loss: 2.5691 - acc: 0.5114 - val_loss: nan - val_acc: 0.5756\n",
      "Epoch 2/10\n",
      "110288/110288 [==============================] - 12s 108us/step - loss: 1.5594 - acc: 0.5988 - val_loss: nan - val_acc: 0.6171\n",
      "Epoch 3/10\n",
      "110288/110288 [==============================] - 12s 108us/step - loss: 1.3653 - acc: 0.6252 - val_loss: nan - val_acc: 0.6365\n",
      "Epoch 4/10\n",
      "110288/110288 [==============================] - 12s 108us/step - loss: 1.2654 - acc: 0.6456 - val_loss: nan - val_acc: 0.6552\n",
      "Epoch 5/10\n",
      "110288/110288 [==============================] - 12s 108us/step - loss: 1.1916 - acc: 0.6607 - val_loss: nan - val_acc: 0.6686\n",
      "Epoch 6/10\n",
      "110288/110288 [==============================] - 12s 108us/step - loss: 1.1328 - acc: 0.6706 - val_loss: nan - val_acc: 0.6750\n",
      "Epoch 7/10\n",
      "110288/110288 [==============================] - 12s 108us/step - loss: 1.0863 - acc: 0.6790 - val_loss: nan - val_acc: 0.6838\n",
      "Epoch 8/10\n",
      "110288/110288 [==============================] - 12s 108us/step - loss: 1.0464 - acc: 0.6857 - val_loss: nan - val_acc: 0.6893\n",
      "Epoch 9/10\n",
      "110288/110288 [==============================] - 12s 108us/step - loss: 1.0135 - acc: 0.6910 - val_loss: nan - val_acc: 0.6941\n",
      "Epoch 10/10\n",
      "110288/110288 [==============================] - 12s 108us/step - loss: 0.9846 - acc: 0.6959 - val_loss: nan - val_acc: 0.6957\n",
      "new jersey est parfois calme en l' et il est est en en <PAD> <PAD> <PAD> <PAD> <PAD> <PAD> <PAD> <PAD>\n"
     ]
    }
   ],
   "source": [
    "def bd_model(input_shape, output_sequence_length, english_vocab_size, french_vocab_size):\n",
    "    \"\"\"\n",
    "    Build and train a bidirectional RNN model on x and y\n",
    "    :param input_shape: Tuple of input shape\n",
    "    :param output_sequence_length: Length of output sequence\n",
    "    :param english_vocab_size: Number of unique English words in the dataset\n",
    "    :param french_vocab_size: Number of unique French words in the dataset\n",
    "    :return: Keras model built, but not trained\n",
    "    \"\"\"\n",
    "    # TODO: Implement\n",
    "    learning_rate = 1e-3\n",
    "    input_seq = Input(input_shape[1:])\n",
    "    rnn = Bidirectional(GRU(128, return_sequences=True))(input_seq)\n",
    "    logits = TimeDistributed(Dense(french_vocab_size))(rnn)\n",
    "    \n",
    "    model = Model(input_seq, Activation('softmax')(logits))\n",
    "    model.compile(loss=sparse_categorical_crossentropy,\n",
    "                  optimizer=Adam(learning_rate),\n",
    "                  metrics=['accuracy'])\n",
    "\n",
    "    return model\n",
    "tests.test_embed_model(embed_model)\n",
    "\n",
    "# TODO: Reshape the input\n",
    "# Reshaping the input to work with a basic RNN\n",
    "tmp_x = pad(preproc_english_sentences, max_french_sequence_length)\n",
    "tmp_x = tmp_x.reshape((-1, preproc_french_sentences.shape[-2], 1))\n",
    "\n",
    "# TODO: Train the neural network\n",
    "# Train the neural network\n",
    "bd_rnn_model = bd_model(\n",
    "    tmp_x.shape,\n",
    "    max_french_sequence_length,\n",
    "    english_vocab_size,\n",
    "    french_vocab_size)\n",
    "print('*** Summary ***')\n",
    "print(bd_rnn_model.summary())\n",
    "bd_rnn_model.fit(tmp_x, preproc_french_sentences, batch_size=1024, epochs=10, validation_split=0.2)\n",
    "\n",
    "# TODO: Print prediction(s)\n",
    "# Print prediction(s)\n",
    "print(logits_to_text(bd_rnn_model.predict(tmp_x[:1])[0], french_tokenizer))"
   ]
  },
  {
   "cell_type": "markdown",
   "metadata": {},
   "source": [
    "### Model 4: Encoder-Decoder (OPTIONAL)\n",
    "Time to look at encoder-decoder models.  This model is made up of an encoder and decoder. The encoder creates a matrix representation of the sentence.  The decoder takes this matrix as input and predicts the translation as output.\n",
    "\n",
    "Create an encoder-decoder model in the cell below."
   ]
  },
  {
   "cell_type": "code",
   "execution_count": 16,
   "metadata": {},
   "outputs": [
    {
     "name": "stdout",
     "output_type": "stream",
     "text": [
      "*** Summary ***\n",
      "_________________________________________________________________\n",
      "Layer (type)                 Output Shape              Param #   \n",
      "=================================================================\n",
      "input_8 (InputLayer)         (None, 21, 1)             0         \n",
      "_________________________________________________________________\n",
      "gru_4 (GRU)                  (None, 21)                1449      \n",
      "_________________________________________________________________\n",
      "dense_9 (Dense)              (None, 128)               2816      \n",
      "_________________________________________________________________\n",
      "repeat_vector_2 (RepeatVecto (None, 21, 128)           0         \n",
      "_________________________________________________________________\n",
      "gru_5 (GRU)                  (None, 21, 128)           98688     \n",
      "_________________________________________________________________\n",
      "time_distributed_8 (TimeDist (None, 21, 344)           44376     \n",
      "=================================================================\n",
      "Total params: 147,329\n",
      "Trainable params: 147,329\n",
      "Non-trainable params: 0\n",
      "_________________________________________________________________\n",
      "None\n",
      "Train on 110288 samples, validate on 27573 samples\n",
      "Epoch 1/10\n",
      "110288/110288 [==============================] - 12s 108us/step - loss: 3.4261 - acc: 0.4161 - val_loss: nan - val_acc: 0.4641\n",
      "Epoch 2/10\n",
      "110288/110288 [==============================] - 11s 102us/step - loss: 2.4859 - acc: 0.4745 - val_loss: nan - val_acc: 0.4875\n",
      "Epoch 3/10\n",
      "110288/110288 [==============================] - 11s 101us/step - loss: 2.2792 - acc: 0.5003 - val_loss: nan - val_acc: 0.5145\n",
      "Epoch 4/10\n",
      "110288/110288 [==============================] - 11s 101us/step - loss: 2.1186 - acc: 0.5231 - val_loss: nan - val_acc: 0.5338\n",
      "Epoch 5/10\n",
      "110288/110288 [==============================] - 11s 101us/step - loss: 1.9981 - acc: 0.5364 - val_loss: nan - val_acc: 0.5388\n",
      "Epoch 6/10\n",
      "110288/110288 [==============================] - 11s 101us/step - loss: 1.9361 - acc: 0.5378 - val_loss: nan - val_acc: 0.5392\n",
      "Epoch 7/10\n",
      "110288/110288 [==============================] - 11s 102us/step - loss: 1.8929 - acc: 0.5423 - val_loss: nan - val_acc: 0.5489\n",
      "Epoch 8/10\n",
      "110288/110288 [==============================] - 11s 102us/step - loss: 1.8513 - acc: 0.5518 - val_loss: nan - val_acc: 0.5580\n",
      "Epoch 9/10\n",
      "110288/110288 [==============================] - 11s 101us/step - loss: 1.8117 - acc: 0.5567 - val_loss: nan - val_acc: 0.5570\n",
      "Epoch 10/10\n",
      "110288/110288 [==============================] - 11s 102us/step - loss: 1.7750 - acc: 0.5575 - val_loss: nan - val_acc: 0.5599\n",
      "la est est parfois en en mais mais il est est en en <PAD> <PAD> <PAD> <PAD> <PAD> <PAD> <PAD> <PAD>\n"
     ]
    }
   ],
   "source": [
    "def encdec_model(input_shape, output_sequence_length, english_vocab_size, french_vocab_size):\n",
    "    \"\"\"\n",
    "    Build and train an encoder-decoder model on x and y\n",
    "    :param input_shape: Tuple of input shape\n",
    "    :param output_sequence_length: Length of output sequence\n",
    "    :param english_vocab_size: Number of unique English words in the dataset\n",
    "    :param french_vocab_size: Number of unique French words in the dataset\n",
    "    :return: Keras model built, but not trained\n",
    "    \"\"\"\n",
    "    # OPTIONAL: Implement\n",
    "    #Config Hyperparameters\n",
    "    learning_rate = 0.001\n",
    "    latent_dim = 128\n",
    "\n",
    "    #Config Encoder\n",
    "    encoder_inputs = Input(shape=input_shape[1:])\n",
    "    encoder_gru = GRU(output_sequence_length)(encoder_inputs)\n",
    "    encoder_outputs = Dense(latent_dim, activation='relu')(encoder_gru)\n",
    "    \n",
    "    #COnfig Decoder\n",
    "    decoder_inputs = RepeatVector(output_sequence_length)(encoder_outputs)\n",
    "    decoder_gru = GRU(latent_dim, return_sequences=True)(decoder_inputs)\n",
    "    output_layer = TimeDistributed(Dense(french_vocab_size, activation='softmax'))\n",
    "    outputs = output_layer(decoder_gru)\n",
    "\n",
    "    #Create Model from parameters defined above\n",
    "    model = Model(inputs=encoder_inputs, outputs=outputs)\n",
    "    model.compile(loss=sparse_categorical_crossentropy,\n",
    "                  optimizer=Adam(learning_rate),\n",
    "                  metrics=['accuracy'])\n",
    "    \n",
    "    return model\n",
    "tests.test_encdec_model(encdec_model)\n",
    "\n",
    "\n",
    "# OPTIONAL: Train and Print prediction(s)\n",
    "# TODO: Reshape the input\n",
    "# Reshaping the input to work with a basic RNN\n",
    "tmp_x = pad(preproc_english_sentences, max_french_sequence_length)\n",
    "tmp_x = tmp_x.reshape((-1, preproc_french_sentences.shape[-2], 1))\n",
    "\n",
    "# TODO: Train the neural network\n",
    "# Train the neural network\n",
    "encdec_rnn_model = encdec_model(\n",
    "    tmp_x.shape,\n",
    "    max_french_sequence_length,\n",
    "    english_vocab_size,\n",
    "    french_vocab_size)\n",
    "print('*** Summary ***')\n",
    "print(encdec_rnn_model.summary())\n",
    "encdec_rnn_model.fit(tmp_x, preproc_french_sentences, batch_size=1024, epochs=10, validation_split=0.2)\n",
    "\n",
    "# TODO: Print prediction(s)\n",
    "# Print prediction(s)\n",
    "print(logits_to_text(encdec_rnn_model.predict(tmp_x[:1])[0], french_tokenizer))"
   ]
  },
  {
   "cell_type": "markdown",
   "metadata": {},
   "source": [
    "### Model 5: Custom (IMPLEMENTATION)\n",
    "Use everything you learned from the previous models to create a model that incorporates embedding and a bidirectional rnn into one model."
   ]
  },
  {
   "cell_type": "code",
   "execution_count": 29,
   "metadata": {},
   "outputs": [
    {
     "name": "stdout",
     "output_type": "stream",
     "text": [
      "Final Model Loaded\n"
     ]
    }
   ],
   "source": [
    "def model_final(input_shape, output_sequence_length, english_vocab_size, french_vocab_size):\n",
    "    \"\"\"\n",
    "    Build and train a model that incorporates embedding, encoder-decoder, and bidirectional RNN on x and y\n",
    "    :param input_shape: Tuple of input shape\n",
    "    :param output_sequence_length: Length of output sequence\n",
    "    :param english_vocab_size: Number of unique English words in the dataset\n",
    "    :param french_vocab_size: Number of unique French words in the dataset\n",
    "    :return: Keras model built, but not trained\n",
    "    \"\"\"\n",
    "    #Config Hyperparameters\n",
    "    learning_rate = 0.001\n",
    "    latent_dim = 256\n",
    "    \n",
    "    #Config Model\n",
    "    inputs = Input(shape=input_shape[1:])\n",
    "    embedding_layer = Embedding(input_dim=english_vocab_size,\n",
    "                                output_dim=200,\n",
    "                                mask_zero=False)(inputs)\n",
    "    bd_layer = Bidirectional(GRU(512))(embedding_layer)\n",
    "    encoding_layer = Dense(latent_dim, activation='relu')(bd_layer)\n",
    "    decoding_layer = RepeatVector(output_sequence_length)(encoding_layer)\n",
    "    output_layer = Bidirectional(GRU(latent_dim, return_sequences=True))(decoding_layer)\n",
    "    #output_hidden_dense = TimeDistributed(Dense(2*french_vocab_size, activation='relu'))(output_layer)\n",
    "    outputs = TimeDistributed(Dense(french_vocab_size, activation='softmax'))(output_layer)\n",
    "    \n",
    "    #Create Model from parameters defined above\n",
    "    model = Model(inputs=inputs, outputs=outputs)\n",
    "    model.compile(loss=sparse_categorical_crossentropy,\n",
    "                  optimizer=Adam(learning_rate),\n",
    "                  metrics=['accuracy'])\n",
    "    \n",
    "    print('*** Summary ***')\n",
    "    print(model.summary())\n",
    "    \n",
    "    return model\n",
    "tests.test_embed_model(embed_model)\n",
    "\n",
    "# TODO: Train the final model\n",
    "print('Final Model Loaded')\n"
   ]
  },
  {
   "cell_type": "markdown",
   "metadata": {},
   "source": [
    "## Prediction (IMPLEMENTATION)"
   ]
  },
  {
   "cell_type": "code",
   "execution_count": 31,
   "metadata": {},
   "outputs": [
    {
     "name": "stdout",
     "output_type": "stream",
     "text": [
      "*** Summary ***\n",
      "_________________________________________________________________\n",
      "Layer (type)                 Output Shape              Param #   \n",
      "=================================================================\n",
      "input_23 (InputLayer)        (None, 15)                0         \n",
      "_________________________________________________________________\n",
      "embedding_18 (Embedding)     (None, 15, 200)           39800     \n",
      "_________________________________________________________________\n",
      "bidirectional_14 (Bidirectio (None, 1024)              2190336   \n",
      "_________________________________________________________________\n",
      "dense_32 (Dense)             (None, 256)               262400    \n",
      "_________________________________________________________________\n",
      "repeat_vector_9 (RepeatVecto (None, 21, 256)           0         \n",
      "_________________________________________________________________\n",
      "bidirectional_15 (Bidirectio (None, 21, 512)           787968    \n",
      "_________________________________________________________________\n",
      "time_distributed_24 (TimeDis (None, 21, 344)           176472    \n",
      "=================================================================\n",
      "Total params: 3,456,976\n",
      "Trainable params: 3,456,976\n",
      "Non-trainable params: 0\n",
      "_________________________________________________________________\n",
      "None\n",
      "Train on 110288 samples, validate on 27573 samples\n",
      "Epoch 1/30\n",
      "110288/110288 [==============================] - 50s 451us/step - loss: 2.6612 - acc: 0.4702 - val_loss: nan - val_acc: 0.5349\n",
      "Epoch 2/30\n",
      "110288/110288 [==============================] - 47s 424us/step - loss: 1.5967 - acc: 0.5882 - val_loss: nan - val_acc: 0.6247\n",
      "Epoch 3/30\n",
      "110288/110288 [==============================] - 47s 424us/step - loss: 1.2398 - acc: 0.6643 - val_loss: nan - val_acc: 0.6958\n",
      "Epoch 4/30\n",
      "110288/110288 [==============================] - 47s 424us/step - loss: 1.0179 - acc: 0.7133 - val_loss: nan - val_acc: 0.7267\n",
      "Epoch 5/30\n",
      "110288/110288 [==============================] - 47s 424us/step - loss: 0.8911 - acc: 0.7404 - val_loss: nan - val_acc: 0.7537\n",
      "Epoch 6/30\n",
      "110288/110288 [==============================] - 47s 423us/step - loss: 0.8098 - acc: 0.7585 - val_loss: nan - val_acc: 0.7680\n",
      "Epoch 7/30\n",
      "110288/110288 [==============================] - 47s 423us/step - loss: 0.7131 - acc: 0.7837 - val_loss: nan - val_acc: 0.7932\n",
      "Epoch 8/30\n",
      "110288/110288 [==============================] - 47s 424us/step - loss: 0.6466 - acc: 0.8020 - val_loss: nan - val_acc: 0.8131\n",
      "Epoch 9/30\n",
      "110288/110288 [==============================] - 47s 424us/step - loss: 0.5752 - acc: 0.8242 - val_loss: nan - val_acc: 0.8342\n",
      "Epoch 10/30\n",
      "110288/110288 [==============================] - 47s 424us/step - loss: 0.5043 - acc: 0.8474 - val_loss: nan - val_acc: 0.8577\n",
      "Epoch 11/30\n",
      "110288/110288 [==============================] - 47s 424us/step - loss: 0.4400 - acc: 0.8680 - val_loss: nan - val_acc: 0.8793\n",
      "Epoch 12/30\n",
      "110288/110288 [==============================] - 47s 424us/step - loss: 0.3885 - acc: 0.8855 - val_loss: nan - val_acc: 0.8950\n",
      "Epoch 13/30\n",
      "110288/110288 [==============================] - 47s 424us/step - loss: 0.3210 - acc: 0.9076 - val_loss: nan - val_acc: 0.9116\n",
      "Epoch 14/30\n",
      "110288/110288 [==============================] - 47s 424us/step - loss: 0.2718 - acc: 0.9232 - val_loss: nan - val_acc: 0.9287\n",
      "Epoch 15/30\n",
      "110288/110288 [==============================] - 47s 424us/step - loss: 0.2319 - acc: 0.9356 - val_loss: nan - val_acc: 0.9391\n",
      "Epoch 16/30\n",
      "110288/110288 [==============================] - 47s 425us/step - loss: 0.2053 - acc: 0.9435 - val_loss: nan - val_acc: 0.9433\n",
      "Epoch 17/30\n",
      "110288/110288 [==============================] - 47s 424us/step - loss: 0.1726 - acc: 0.9534 - val_loss: nan - val_acc: 0.9542\n",
      "Epoch 18/30\n",
      "110288/110288 [==============================] - 47s 424us/step - loss: 0.1515 - acc: 0.9588 - val_loss: nan - val_acc: 0.9590\n",
      "Epoch 19/30\n",
      "110288/110288 [==============================] - 47s 424us/step - loss: 0.1312 - acc: 0.9645 - val_loss: nan - val_acc: 0.9632\n",
      "Epoch 20/30\n",
      "110288/110288 [==============================] - 47s 424us/step - loss: 0.1174 - acc: 0.9676 - val_loss: nan - val_acc: 0.9629\n",
      "Epoch 21/30\n",
      "110288/110288 [==============================] - 47s 424us/step - loss: 0.1126 - acc: 0.9685 - val_loss: nan - val_acc: 0.9655\n",
      "Epoch 22/30\n",
      "110288/110288 [==============================] - 47s 424us/step - loss: 0.0954 - acc: 0.9733 - val_loss: nan - val_acc: 0.9684\n",
      "Epoch 23/30\n",
      "110288/110288 [==============================] - 47s 424us/step - loss: 0.0919 - acc: 0.9741 - val_loss: nan - val_acc: 0.9630\n",
      "Epoch 24/30\n",
      "110288/110288 [==============================] - 47s 424us/step - loss: 0.0855 - acc: 0.9759 - val_loss: nan - val_acc: 0.9705\n",
      "Epoch 25/30\n",
      "110288/110288 [==============================] - 47s 424us/step - loss: 0.0739 - acc: 0.9791 - val_loss: nan - val_acc: 0.9715\n",
      "Epoch 26/30\n",
      "110288/110288 [==============================] - 47s 424us/step - loss: 0.0676 - acc: 0.9809 - val_loss: nan - val_acc: 0.9721\n",
      "Epoch 27/30\n",
      "110288/110288 [==============================] - 47s 424us/step - loss: 0.0706 - acc: 0.9800 - val_loss: nan - val_acc: 0.9703\n",
      "Epoch 28/30\n",
      "110288/110288 [==============================] - 47s 425us/step - loss: 0.0656 - acc: 0.9814 - val_loss: nan - val_acc: 0.9767\n",
      "Epoch 29/30\n",
      "110288/110288 [==============================] - 47s 424us/step - loss: 0.0523 - acc: 0.9854 - val_loss: nan - val_acc: 0.9774\n",
      "Epoch 30/30\n",
      "110288/110288 [==============================] - 47s 425us/step - loss: 0.0519 - acc: 0.9855 - val_loss: nan - val_acc: 0.9742\n",
      "Sample 1:\n",
      "il a vu un vieux camion jaune <PAD> <PAD> <PAD> <PAD> <PAD> <PAD> <PAD> <PAD> <PAD> <PAD> <PAD> <PAD> <PAD> <PAD>\n",
      "Il a vu un vieux camion jaune\n",
      "Sample 2:\n",
      "new jersey est parfois calme pendant l' automne et il est neigeux en avril <PAD> <PAD> <PAD> <PAD> <PAD> <PAD> <PAD>\n",
      "new jersey est parfois calme pendant l' automne et il est neigeux en avril <PAD> <PAD> <PAD> <PAD> <PAD> <PAD> <PAD>\n"
     ]
    }
   ],
   "source": [
    "def final_predictions(x, y, x_tk, y_tk):\n",
    "    \"\"\"\n",
    "    Gets predictions using the final model\n",
    "    :param x: Preprocessed English data\n",
    "    :param y: Preprocessed French data\n",
    "    :param x_tk: English tokenizer\n",
    "    :param y_tk: French tokenizer\n",
    "    \"\"\"\n",
    "    # TODO: Train neural network using model_final\n",
    "    # Train neural network using model_final    \n",
    "    model = model_final(\n",
    "        x.shape, \n",
    "        y.shape[1], \n",
    "        len(x_tk.word_index), # len(english_tokenizer.word_index),\n",
    "        len(y_tk.word_index), # len(french_tokenizer.word_index)\n",
    "    )\n",
    "    \n",
    "    model.fit(\n",
    "        x, \n",
    "        y, # preproc_french_sentences, \n",
    "        batch_size=1024, \n",
    "        epochs=30, \n",
    "        validation_split=0.2\n",
    "    )\n",
    "\n",
    "\n",
    "    \n",
    "    ## DON'T EDIT ANYTHING BELOW THIS LINE\n",
    "    y_id_to_word = {value: key for key, value in y_tk.word_index.items()}\n",
    "    y_id_to_word[0] = '<PAD>'\n",
    "\n",
    "    sentence = 'he saw a old yellow truck'\n",
    "    sentence = [x_tk.word_index[word] for word in sentence.split()]\n",
    "    sentence = pad_sequences([sentence], maxlen=x.shape[-1], padding='post')\n",
    "    sentences = np.array([sentence[0], x[0]])\n",
    "    predictions = model.predict(sentences, len(sentences))\n",
    "\n",
    "    print('Sample 1:')\n",
    "    print(' '.join([y_id_to_word[np.argmax(x)] for x in predictions[0]]))\n",
    "    print('Il a vu un vieux camion jaune')\n",
    "    print('Sample 2:')\n",
    "    print(' '.join([y_id_to_word[np.argmax(x)] for x in predictions[1]]))\n",
    "    print(' '.join([y_id_to_word[np.max(x)] for x in y[0]]))\n",
    "\n",
    "\n",
    "final_predictions(preproc_english_sentences, preproc_french_sentences, english_tokenizer, french_tokenizer)"
   ]
  },
  {
   "cell_type": "markdown",
   "metadata": {},
   "source": [
    "## Submission\n",
    "When you're ready to submit, complete the following steps:\n",
    "1. Review the [rubric](https://review.udacity.com/#!/rubrics/1004/view) to ensure your submission meets all requirements to pass\n",
    "2. Generate an HTML version of this notebook\n",
    "\n",
    "  - Run the next cell to attempt automatic generation (this is the recommended method in Workspaces)\n",
    "  - Navigate to **FILE -> Download as -> HTML (.html)**\n",
    "  - Manually generate a copy using `nbconvert` from your shell terminal\n",
    "```\n",
    "$ pip install nbconvert\n",
    "$ python -m nbconvert machine_translation.ipynb\n",
    "```\n",
    "  \n",
    "3. Submit the project\n",
    "\n",
    "  - If you are in a Workspace, simply click the \"Submit Project\" button (bottom towards the right)\n",
    "  \n",
    "  - Otherwise, add the following files into a zip archive and submit them \n",
    "  - `helper.py`\n",
    "  - `machine_translation.ipynb`\n",
    "  - `machine_translation.html`\n",
    "    - You can export the notebook by navigating to **File -> Download as -> HTML (.html)**."
   ]
  },
  {
   "cell_type": "markdown",
   "metadata": {},
   "source": [
    "### Generate the html\n",
    "\n",
    "**Save your notebook before running the next cell to generate the HTML output.** Then submit your project."
   ]
  },
  {
   "cell_type": "code",
   "execution_count": 32,
   "metadata": {},
   "outputs": [
    {
     "data": {
      "text/plain": [
       "['[NbConvertApp] Converting notebook machine_translation.ipynb to html',\n",
       " '[NbConvertApp] Writing 352823 bytes to machine_translation.html']"
      ]
     },
     "execution_count": 32,
     "metadata": {},
     "output_type": "execute_result"
    }
   ],
   "source": [
    "# Save before you run this cell!\n",
    "!!jupyter nbconvert *.ipynb"
   ]
  },
  {
   "cell_type": "markdown",
   "metadata": {},
   "source": [
    "## Optional Enhancements\n",
    "\n",
    "This project focuses on learning various network architectures for machine translation, but we don't evaluate the models according to best practices by splitting the data into separate test & training sets -- so the model accuracy is overstated. Use the [`sklearn.model_selection.train_test_split()`](http://scikit-learn.org/stable/modules/generated/sklearn.model_selection.train_test_split.html) function to create separate training & test datasets, then retrain each of the models using only the training set and evaluate the prediction accuracy using the hold out test set. Does the \"best\" model change?"
   ]
  }
 ],
 "metadata": {
  "kernelspec": {
   "display_name": "Python 3",
   "language": "python",
   "name": "python3"
  },
  "language_info": {
   "codemirror_mode": {
    "name": "ipython",
    "version": 3
   },
   "file_extension": ".py",
   "mimetype": "text/x-python",
   "name": "python",
   "nbconvert_exporter": "python",
   "pygments_lexer": "ipython3",
   "version": "3.6.3"
  }
 },
 "nbformat": 4,
 "nbformat_minor": 1
}
